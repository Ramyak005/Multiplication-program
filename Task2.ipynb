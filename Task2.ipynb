{
  "nbformat": 4,
  "nbformat_minor": 0,
  "metadata": {
    "colab": {
      "provenance": [],
      "authorship_tag": "ABX9TyN/M3ss6wx4vTUdfUbpfFrm",
      "include_colab_link": true
    },
    "kernelspec": {
      "name": "python3",
      "display_name": "Python 3"
    },
    "language_info": {
      "name": "python"
    }
  },
  "cells": [
    {
      "cell_type": "markdown",
      "metadata": {
        "id": "view-in-github",
        "colab_type": "text"
      },
      "source": [
        "<a href=\"https://colab.research.google.com/github/Ramyak005/Multiplication-program/blob/main/Task2.ipynb\" target=\"_parent\"><img src=\"https://colab.research.google.com/assets/colab-badge.svg\" alt=\"Open In Colab\"/></a>"
      ]
    },
    {
      "cell_type": "code",
      "execution_count": 1,
      "metadata": {
        "colab": {
          "base_uri": "https://localhost:8080/"
        },
        "id": "bN0zxyfopfnr",
        "outputId": "43ecb2a8-8cf3-4edf-d8fa-4ca575286481"
      },
      "outputs": [
        {
          "output_type": "stream",
          "name": "stdout",
          "text": [
            "The product of a and b is: 48\n"
          ]
        }
      ],
      "source": [
        "# Version 1: Hardcoded variables for multiplication\n",
        "\n",
        "# Hardcoded values\n",
        "a = 8\n",
        "b = 6\n",
        "\n",
        "# Perform multiplication\n",
        "result = a * b\n",
        "\n",
        "# Print the result\n",
        "print(\"The product of a and b is:\", result)"
      ]
    },
    {
      "cell_type": "code",
      "source": [
        "# Version 2: Keyboard input for multiplication\n",
        "\n",
        "# Keyboard input for the two numbers\n",
        "num1 = input(\"Enter the first number: \")\n",
        "num2 = input(\"Enter the second number: \")\n",
        "\n",
        "# Convert the input to integers and perform multiplication\n",
        "try:\n",
        "    num1 = int(num1)\n",
        "    num2 = int(num2)\n",
        "    result = num1 * num2\n",
        "    print(f\"The result of multiplying {num1} and {num2} is: {result}\")\n",
        "except ValueError:\n",
        "    print(\"Please enter valid numbers.\")"
      ],
      "metadata": {
        "colab": {
          "base_uri": "https://localhost:8080/"
        },
        "id": "ky9TLSrjqh5Y",
        "outputId": "5f0b05bc-b2a8-4f21-e296-94bfe88481ec"
      },
      "execution_count": 2,
      "outputs": [
        {
          "output_type": "stream",
          "name": "stdout",
          "text": [
            "Enter the first number: 4\n",
            "Enter the second number: 8\n",
            "The result of multiplying 4 and 8 is: 32\n"
          ]
        }
      ]
    },
    {
      "cell_type": "code",
      "source": [
        "# Create the input.txt file with two numbers\n",
        "input_data = \"7\\n13\"\n",
        "with open(\"input.txt\", \"w\") as file:\n",
        "    file.write(input_data)"
      ],
      "metadata": {
        "id": "mns0yckzsqsI"
      },
      "execution_count": 6,
      "outputs": []
    },
    {
      "cell_type": "code",
      "source": [
        "# Read numbers from a file and perform multiplication\n",
        "with open(\"input.txt\", \"r\") as file:\n",
        "    num1 = int(file.readline().strip())  # Read the first number\n",
        "    num2 = int(file.readline().strip())  # Read the second number\n",
        "\n",
        "# Perform multiplication\n",
        "result = num1 * num2\n",
        "\n",
        "# Print the result\n",
        "print(f\"The result of multiplying {num1} and {num2} is: {result}\")\n"
      ],
      "metadata": {
        "colab": {
          "base_uri": "https://localhost:8080/"
        },
        "id": "Hb9PftLEsxpZ",
        "outputId": "3eb5eaff-3aa9-404d-fd19-cfacf756af6f"
      },
      "execution_count": 7,
      "outputs": [
        {
          "output_type": "stream",
          "name": "stdout",
          "text": [
            "The result of multiplying 7 and 13 is: 91\n"
          ]
        }
      ]
    },
    {
      "cell_type": "code",
      "source": [
        "# Create input.txt file with multiple inputs\n",
        "input_data = \"6 7\\n2 3\\n5 4\"  # Each line has two numbers separated by space\n",
        "with open(\"input.txt\", \"w\") as file:\n",
        "    file.write(input_data)\n",
        "\n",
        "print(\"File input.txt has been created in /content/\")\n"
      ],
      "metadata": {
        "colab": {
          "base_uri": "https://localhost:8080/"
        },
        "id": "xsRLw2XquHYe",
        "outputId": "fa2943ba-8401-439e-a87f-1280b0f1b19c"
      },
      "execution_count": 8,
      "outputs": [
        {
          "output_type": "stream",
          "name": "stdout",
          "text": [
            "File input.txt has been created in /content/\n"
          ]
        }
      ]
    },
    {
      "cell_type": "code",
      "source": [
        "# Version: Read from file (multiple inputs) for multiplication\n",
        "\n",
        "# Read multiple pairs of numbers from a file\n",
        "with open(\"input.txt\", \"r\") as file:\n",
        "    lines = file.readlines()  # Read all lines from the file\n",
        "\n",
        "# Process each line and perform multiplication\n",
        "for line in lines:\n",
        "    # Split the line into two numbers\n",
        "    num1, num2 = map(int, line.split())\n",
        "\n",
        "    # Perform multiplication\n",
        "    result = num1 * num2\n",
        "\n",
        "    # Print the result\n",
        "    print(f\"The result of multiplying {num1} and {num2} is: {result}\")\n"
      ],
      "metadata": {
        "colab": {
          "base_uri": "https://localhost:8080/"
        },
        "id": "LqTaXRf_uRaV",
        "outputId": "3a2990aa-3632-440b-a8dd-cb37bb7b60c7"
      },
      "execution_count": 10,
      "outputs": [
        {
          "output_type": "stream",
          "name": "stdout",
          "text": [
            "The result of multiplying 6 and 7 is: 42\n",
            "The result of multiplying 2 and 3 is: 6\n",
            "The result of multiplying 5 and 4 is: 20\n"
          ]
        }
      ]
    }
  ]
}